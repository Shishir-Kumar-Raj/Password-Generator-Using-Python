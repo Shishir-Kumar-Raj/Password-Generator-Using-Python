{
 "cells": [
  {
   "cell_type": "markdown",
   "id": "0c9db4e0-319a-4993-b04e-78b271e05fa1",
   "metadata": {},
   "source": [
    "## Password Generator"
   ]
  },
  {
   "cell_type": "code",
   "execution_count": null,
   "id": "645e2ecd-f6ae-496e-81c8-0dbd8731f60d",
   "metadata": {},
   "outputs": [],
   "source": [
    "import random\n",
    "\n",
    "print(\"Welcome to Password Generator\")\n",
    "\n",
    "letters = ['a', 'b', 'c', 'd', 'e', 'f', 'g', 'h', 'i', 'j', 'k', 'l', 'm', 'n', 'o', 'p', 'q', 'r', 's', 't', 'u', 'v', 'w', 'x', 'y', 'z', \n",
    "           'A', 'B', 'C', 'D', 'E', 'F', 'G', 'H', 'I', 'J', 'K', 'L', 'M', 'N', 'O', 'P', 'Q', 'R', 'S', 'T', 'U', 'V', 'W', 'X', 'Y', 'Z']\n",
    "\n",
    "numbers = ['0', '1', '2', '3', '4', '5', '6', '7', '8', '9']\n",
    "symbols = ['!', '\"', '#', '$', '%', '&', \"'\", '(', ')', '*', '+', ',', '-', '.', '/', \n",
    "           ':', ';', '<', '=', '>', '?', '@', '[', '\\\\', ']', '^', '_', '`', '{', '|', '}', '~']\n",
    "\n",
    "# User input\n",
    "a = int(input(\"How many letters: \"))\n",
    "b = int(input(\"How many numbers: \"))\n",
    "c = int(input(\"How many symbols: \"))\n",
    "\n",
    "# Initialize password variable\n",
    "Pass = \"\"\n",
    "\n",
    "# Generate letters, numbers, and symbols\n",
    "for i in range(a):\n",
    "    Pass += random.choice(letters)\n",
    "for i in range(b):\n",
    "    Pass += random.choice(numbers) \n",
    "for i in range(c):  \n",
    "    Pass += random.choice(symbols)\n",
    "\n",
    "# Shuffle password\n",
    "Pass = ''.join(random.sample(Pass, len(Pass)))   \n",
    "\n",
    "print(\"Generated Password:\", Pass)"
   ]
  }
 ],
 "metadata": {
  "kernelspec": {
   "display_name": "Python [conda env:base] *",
   "language": "python",
   "name": "conda-base-py"
  },
  "language_info": {
   "codemirror_mode": {
    "name": "ipython",
    "version": 3
   },
   "file_extension": ".py",
   "mimetype": "text/x-python",
   "name": "python",
   "nbconvert_exporter": "python",
   "pygments_lexer": "ipython3",
   "version": "3.12.7"
  }
 },
 "nbformat": 4,
 "nbformat_minor": 5
}
